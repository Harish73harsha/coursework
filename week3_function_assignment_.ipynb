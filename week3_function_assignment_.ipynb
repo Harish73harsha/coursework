{
 "cells": [
  {
   "cell_type": "markdown",
   "id": "ffb007f1-a71a-4684-a80c-fccad3c1588e",
   "metadata": {},
   "source": [
    "#Python assignment"
   ]
  },
  {
   "cell_type": "markdown",
   "id": "600b70cb-b346-4feb-957b-25953e52bf41",
   "metadata": {},
   "source": [
    "Q1. Which keyword is used to create a function? Create a function to return a list of odd numbers in the\n",
    "range of 1 to 25.\n"
   ]
  },
  {
   "cell_type": "code",
   "execution_count": 1,
   "id": "fb57d670-bfa3-40a1-bc4e-458b7be8b462",
   "metadata": {},
   "outputs": [
    {
     "data": {
      "text/plain": [
       "[1, 3, 5, 7, 9, 11, 13, 15, 17, 19, 21, 23]"
      ]
     },
     "execution_count": 1,
     "metadata": {},
     "output_type": "execute_result"
    }
   ],
   "source": [
    "def odd(s,e):\n",
    "    o=[]\n",
    "    for i in range(s,e):\n",
    "        if i%2!=0:\n",
    "            o.append(i)\n",
    "    return o\n",
    "odd(1,25)    "
   ]
  },
  {
   "cell_type": "markdown",
   "id": "0e10f39e-033f-4a9d-83a5-4cc6487cb25b",
   "metadata": {},
   "source": [
    "Q2. Why *args and **kwargs is used in some functions? Create a function each for *args and **kwargs to\n",
    "demonstrate their use.\n"
   ]
  },
  {
   "cell_type": "code",
   "execution_count": 5,
   "id": "4d3cec68-6636-4e3d-a620-c1554b885ac0",
   "metadata": {},
   "outputs": [
    {
     "name": "stdout",
     "output_type": "stream",
     "text": [
      "(1, 2, 3, 4, 5)\n",
      "{'a': 1, 'b': 12, 'c': 123}\n"
     ]
    }
   ],
   "source": [
    "# *args= to pass multiple or n number of arguments to a function like (1,2,3,4),{1,2,3,4},[123.4,4,2,\"ygayiy\"]\n",
    "# *kwargs= to pass multiple or n number of keyword arguments to a function like {a:10,b:12}\n",
    "def a(*args):\n",
    "    return args\n",
    "def b(**kwargs):\n",
    "    return kwargs\n",
    "print(a(1,2,3,4,5))\n",
    "print(b(a=1,b=12,c=123))"
   ]
  },
  {
   "cell_type": "markdown",
   "id": "e6d35569-5e96-4f53-99df-15a131526d71",
   "metadata": {},
   "source": [
    "Q3. What is an iterator in python? Name the method used to initialise the iterator object and the method\n",
    "used for iteration. Use these methods to print the first five elements of the given list [2,4,6,8,10,12,14,16,18,20]"
   ]
  },
  {
   "cell_type": "code",
   "execution_count": 47,
   "id": "bfd9a32d-ec98-48f6-8c9d-6b35ef5b39e0",
   "metadata": {},
   "outputs": [
    {
     "name": "stdout",
     "output_type": "stream",
     "text": [
      "[2, 4, 6, 8, 10, 12, 14, 16, 18, 20]\n",
      "<list_iterator object at 0x7ff09c2e5360>\n"
     ]
    }
   ],
   "source": [
    "# an iterator is an object that conatins a countable number of values.\n",
    "#an iterator is an object that can be iterated upon, meaning that you can traverse through all the values.\n",
    "l=[2,4,6,8,10,12,14,16,18,20]\n",
    "print(l)\n",
    "print(iter(l))\n",
    "a=iter(l)"
   ]
  },
  {
   "cell_type": "code",
   "execution_count": 48,
   "id": "9cdf3176-e783-4b36-b99b-403891bbfe2a",
   "metadata": {},
   "outputs": [
    {
     "data": {
      "text/plain": [
       "' \\nwhen the iterator execute all the elements it will return stop iteration error\\nwe can prevent that by using error handling methods like try except \\nlike\\ntry:\\n    next(a)\\nexcept StopIteration:\\n    print(\"the iterator us empty\")'"
      ]
     },
     "execution_count": 48,
     "metadata": {},
     "output_type": "execute_result"
    }
   ],
   "source": [
    "\"\"\" \n",
    "when the iterator execute all the elements it will return stop iteration error\n",
    "we can prevent that by using error handling methods like try except \n",
    "like\n",
    "try:\n",
    "    next(a)\n",
    "except StopIteration:\n",
    "    print(\"the iterator us empty\")\n",
    "\"\"\""
   ]
  },
  {
   "cell_type": "code",
   "execution_count": 54,
   "id": "f5eeda05-3824-45bf-83df-814d1eb002d4",
   "metadata": {},
   "outputs": [
    {
     "data": {
      "text/plain": [
       "14"
      ]
     },
     "execution_count": 54,
     "metadata": {},
     "output_type": "execute_result"
    }
   ],
   "source": [
    "# 1st method to iterate the itertor is by using ( next() )\n",
    "next(a)"
   ]
  },
  {
   "cell_type": "code",
   "execution_count": 37,
   "id": "1bc1261b-43e9-4b3c-abfb-07b947381158",
   "metadata": {},
   "outputs": [
    {
     "name": "stdout",
     "output_type": "stream",
     "text": [
      "2\n",
      "4\n",
      "6\n",
      "8\n",
      "10\n",
      "12\n",
      "14\n",
      "16\n",
      "18\n",
      "20\n"
     ]
    }
   ],
   "source": [
    "#another method to execute iterator is by using for loop\n",
    "for i in a:\n",
    "    print(i)"
   ]
  },
  {
   "cell_type": "markdown",
   "id": "9f143131-6e2f-49b8-8fde-19836ff359d5",
   "metadata": {},
   "source": [
    "Q4. What is a generator function in python? Why yield keyword is used? Give an example of a generator\n",
    "function.\n"
   ]
  },
  {
   "cell_type": "code",
   "execution_count": 62,
   "id": "0c98fdea-5b8d-4e92-b6df-f71cd28e037c",
   "metadata": {},
   "outputs": [
    {
     "name": "stdout",
     "output_type": "stream",
     "text": [
      "1\n",
      "3\n",
      "5\n",
      "7\n",
      "9\n",
      "11\n",
      "13\n",
      "15\n",
      "17\n"
     ]
    }
   ],
   "source": [
    "\"\"\"\n",
    "generator is used t create a iterator .it returns a generator object.generator object are used either by calling next() or for in loop\n",
    "yield is the keyword to create generator which only execute only according to the requirement and it will not store in the memory location \n",
    " range is the example for generator function \n",
    "\"\"\"\n",
    "def g(n):\n",
    "    a,b=1,2\n",
    "    for i in range(n):\n",
    "        yield a\n",
    "        a=a+b\n",
    "        \n",
    "for i in g(9):\n",
    "    print(i)\n",
    "    "
   ]
  },
  {
   "cell_type": "markdown",
   "id": "b1c707cf-98bd-4c2e-a22c-a98325ff3f60",
   "metadata": {},
   "source": [
    "Q5. Create a generator function for prime numbers less than 1000. Use the next() method to print the\n",
    "first 20 prime numbers."
   ]
  },
  {
   "cell_type": "code",
   "execution_count": 1,
   "id": "b78da866-1123-4506-901b-10526149d3f8",
   "metadata": {},
   "outputs": [
    {
     "name": "stdout",
     "output_type": "stream",
     "text": [
      "2\n",
      "3\n",
      "5\n",
      "7\n",
      "11\n",
      "13\n",
      "17\n",
      "19\n",
      "23\n",
      "29\n",
      "31\n",
      "37\n",
      "41\n",
      "43\n",
      "47\n",
      "53\n",
      "59\n",
      "61\n",
      "67\n",
      "71\n"
     ]
    }
   ],
   "source": [
    "def prime_generator():\n",
    "    for num in range(2, 1000):\n",
    "        if all(num % i != 0 for i in range(2, num)):\n",
    "            yield num\n",
    "\n",
    "prime_gen = prime_generator()\n",
    "for _ in range(20):\n",
    "    print(next(prime_gen))\n",
    "\n"
   ]
  },
  {
   "cell_type": "code",
   "execution_count": 80,
   "id": "f47afa64-ec8b-4eb6-8eae-aa43ced143cd",
   "metadata": {},
   "outputs": [
    {
     "ename": "NameError",
     "evalue": "name 'isPrime' is not defined",
     "output_type": "error",
     "traceback": [
      "\u001b[0;31m---------------------------------------------------------------------------\u001b[0m",
      "\u001b[0;31mNameError\u001b[0m                                 Traceback (most recent call last)",
      "Cell \u001b[0;32mIn[80], line 1\u001b[0m\n\u001b[0;32m----> 1\u001b[0m \u001b[43misPrime\u001b[49m(\u001b[38;5;241m5\u001b[39m)\n",
      "\u001b[0;31mNameError\u001b[0m: name 'isPrime' is not defined"
     ]
    }
   ],
   "source": []
  },
  {
   "cell_type": "code",
   "execution_count": null,
   "id": "1f37341a-e2d6-4340-bdd6-192e9576319f",
   "metadata": {},
   "outputs": [],
   "source": []
  }
 ],
 "metadata": {
  "kernelspec": {
   "display_name": "Python 3 (ipykernel)",
   "language": "python",
   "name": "python3"
  },
  "language_info": {
   "codemirror_mode": {
    "name": "ipython",
    "version": 3
   },
   "file_extension": ".py",
   "mimetype": "text/x-python",
   "name": "python",
   "nbconvert_exporter": "python",
   "pygments_lexer": "ipython3",
   "version": "3.10.8"
  }
 },
 "nbformat": 4,
 "nbformat_minor": 5
}
