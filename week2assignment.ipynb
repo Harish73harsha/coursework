{
 "cells": [
  {
   "cell_type": "markdown",
   "id": "d125efc1-af96-400a-9f3d-9d4610482be3",
   "metadata": {},
   "source": [
    "Q1. How do you comment code in Python? What are the different types of comments?"
   ]
  },
  {
   "cell_type": "code",
   "execution_count": null,
   "id": "19678dcb-ed53-4e08-970c-b295a51c46cd",
   "metadata": {},
   "outputs": [],
   "source": [
    "# there are two types of comments code in python they are\n",
    "# single line comments\n",
    "''' \n",
    "   multi \n",
    "   line \n",
    "   comments\n",
    "'''"
   ]
  },
  {
   "cell_type": "markdown",
   "id": "ff188885-fb91-45d5-bc3e-59ba09e2c373",
   "metadata": {},
   "source": [
    "Q2. What are variables in Python? How do you declare and assign values to variables?"
   ]
  },
  {
   "cell_type": "code",
   "execution_count": 1,
   "id": "3ef38e9e-f724-4d8a-8cab-0ea43262f5a6",
   "metadata": {},
   "outputs": [
    {
     "data": {
      "text/plain": [
       "10"
      ]
     },
     "execution_count": 1,
     "metadata": {},
     "output_type": "execute_result"
    }
   ],
   "source": [
    "''' variable is like a container where the values can be stored \n",
    "    in simple words it is like a basket which can contain a objects\n",
    "    we can assign multiple values like strings,numeric values,list boolean,complex numbers into a variables \n",
    "'''\n",
    "a=10\n",
    "a"
   ]
  },
  {
   "cell_type": "markdown",
   "id": "ca871618-946f-40a5-9ccb-c1f4936f6750",
   "metadata": {},
   "source": [
    "Q3. How do you convert one data type to another in Python?"
   ]
  },
  {
   "cell_type": "code",
   "execution_count": 6,
   "id": "c67187c6-4cfd-40d0-a425-7b2c14178d58",
   "metadata": {},
   "outputs": [
    {
     "name": "stdout",
     "output_type": "stream",
     "text": [
      "<class 'int'>\n",
      "<class 'float'>\n"
     ]
    }
   ],
   "source": [
    "'''\n",
    "we can convert a data type to another datatypes using typecasting.\n",
    "it is a function which is used to convert datatypes as per our requirements\n",
    "'''\n",
    "print(type(a))# type of the a is int and now we are going to change it as float\n",
    "print(type(float(a)))# now the datatype of a is float this is known as typecasting"
   ]
  },
  {
   "cell_type": "markdown",
   "id": "b6a6fba9-e1bc-4ebf-9314-a53d22d1fe71",
   "metadata": {},
   "source": [
    "Q4. How do you write and execute a Python script from the command line?"
   ]
  },
  {
   "cell_type": "code",
   "execution_count": null,
   "id": "3d5af599-4d57-47bf-84e9-7030ab0508ce",
   "metadata": {},
   "outputs": [],
   "source": [
    "\"\"\"\n",
    "\n",
    "we have save the python script as .py extention\n",
    "and in the command prompt \n",
    "type : python \"[file path]\" press enter\n",
    "\n",
    "\"\"\"\n"
   ]
  },
  {
   "cell_type": "markdown",
   "id": "783940dd-43a5-4baf-b9dd-aec6a0dbe8a0",
   "metadata": {},
   "source": [
    "Q5. Given a list my_list = [1, 2, 3, 4, 5], write the code to slice the list and obtain the sub-list [2, 3]."
   ]
  },
  {
   "cell_type": "code",
   "execution_count": 2,
   "id": "39538176-c5c3-431f-ae8b-a066ba778c7e",
   "metadata": {},
   "outputs": [
    {
     "data": {
      "text/plain": [
       "[2, 3]"
      ]
     },
     "execution_count": 2,
     "metadata": {},
     "output_type": "execute_result"
    }
   ],
   "source": [
    "my_list = [1, 2, 3, 4, 5]\n",
    "my_list[1:3]"
   ]
  },
  {
   "cell_type": "markdown",
   "id": "abb90486-78f4-4d85-b5c8-419a8e0b5d96",
   "metadata": {},
   "source": [
    "Q6. What is a complex number in mathematics, and how is it represented in Python?"
   ]
  },
  {
   "cell_type": "markdown",
   "id": "3dced642-1d31-4d9c-8d2b-5a1a3242f649",
   "metadata": {},
   "source": [
    "complex number is nothing but equation involved with the real and imaginary variables"
   ]
  },
  {
   "cell_type": "code",
   "execution_count": 4,
   "id": "057b35a6-3119-4262-8213-5c46b2df5ed7",
   "metadata": {},
   "outputs": [
    {
     "data": {
      "text/plain": [
       "(3+5j)"
      ]
     },
     "execution_count": 4,
     "metadata": {},
     "output_type": "execute_result"
    }
   ],
   "source": [
    "# complex(real,imaginary)\n",
    "x=complex(3,5)\n",
    "x"
   ]
  },
  {
   "cell_type": "markdown",
   "id": "76d97f20-b672-416c-bdc7-5d708b666c6b",
   "metadata": {},
   "source": [
    "Q7. What is the correct way to declare a variable named age and assign the value 25 to it?"
   ]
  },
  {
   "cell_type": "code",
   "execution_count": 4,
   "id": "8211dcaf-2201-4791-9e29-8839c5d37094",
   "metadata": {},
   "outputs": [
    {
     "data": {
      "text/plain": [
       "25"
      ]
     },
     "execution_count": 4,
     "metadata": {},
     "output_type": "execute_result"
    }
   ],
   "source": [
    "age=25\n",
    "age"
   ]
  },
  {
   "cell_type": "markdown",
   "id": "9fc1025f-dcb1-44af-b953-b2c2cf3b0de3",
   "metadata": {},
   "source": [
    "Q8. Declare a variable named price and assign the value 9.99 to it. What data type does this variable\n",
    "belong to?"
   ]
  },
  {
   "cell_type": "code",
   "execution_count": 5,
   "id": "727b633b-98c8-47bf-878a-f6d9e7d5aa92",
   "metadata": {},
   "outputs": [
    {
     "data": {
      "text/plain": [
       "float"
      ]
     },
     "execution_count": 5,
     "metadata": {},
     "output_type": "execute_result"
    }
   ],
   "source": [
    "price=9.99\n",
    "type(price)"
   ]
  },
  {
   "cell_type": "markdown",
   "id": "d3c0957c-a66c-4733-9002-dd689ef27907",
   "metadata": {},
   "source": [
    "Q9. Create a variable named name and assign your full name to it as a string. How would you print the\n",
    "value of this variable?"
   ]
  },
  {
   "cell_type": "code",
   "execution_count": 7,
   "id": "4fc21b98-4184-4ace-959c-35c022069ee1",
   "metadata": {},
   "outputs": [
    {
     "name": "stdout",
     "output_type": "stream",
     "text": [
      "My Name is : Harshavardhan\n"
     ]
    }
   ],
   "source": [
    "name=\"Harshavardhan\"\n",
    "print(\"My Name is :\",name)"
   ]
  },
  {
   "cell_type": "markdown",
   "id": "89419f40-2d61-4b76-8d8c-c73c15ba673b",
   "metadata": {},
   "source": [
    "Q10. Given the string \"Hello, World!\", extract the substring \"World\"."
   ]
  },
  {
   "cell_type": "code",
   "execution_count": 9,
   "id": "2a55333c-44f2-4e31-a726-dca61e98a809",
   "metadata": {},
   "outputs": [
    {
     "data": {
      "text/plain": [
       "'World'"
      ]
     },
     "execution_count": 9,
     "metadata": {},
     "output_type": "execute_result"
    }
   ],
   "source": [
    "a=\"Hello,World!\"\n",
    "a[6:-1]"
   ]
  },
  {
   "cell_type": "markdown",
   "id": "60be5d1f-aff0-4514-bcc3-b47ef6176530",
   "metadata": {},
   "source": [
    "Q11. Create a variable named \"is_student\" and assign it a boolean value indicating whether you are\n",
    "currently a student or not."
   ]
  },
  {
   "cell_type": "code",
   "execution_count": 12,
   "id": "4a063892-a9c4-4c8c-adf9-315aa086787c",
   "metadata": {},
   "outputs": [
    {
     "data": {
      "text/plain": [
       "True"
      ]
     },
     "execution_count": 12,
     "metadata": {},
     "output_type": "execute_result"
    }
   ],
   "source": [
    "is_student=1\n",
    "bool(is_student)"
   ]
  },
  {
   "cell_type": "code",
   "execution_count": null,
   "id": "ed3f755f-7dd6-4b8d-a6ee-1e01b4c014de",
   "metadata": {},
   "outputs": [],
   "source": []
  }
 ],
 "metadata": {
  "kernelspec": {
   "display_name": "Python 3 (ipykernel)",
   "language": "python",
   "name": "python3"
  },
  "language_info": {
   "codemirror_mode": {
    "name": "ipython",
    "version": 3
   },
   "file_extension": ".py",
   "mimetype": "text/x-python",
   "name": "python",
   "nbconvert_exporter": "python",
   "pygments_lexer": "ipython3",
   "version": "3.10.8"
  }
 },
 "nbformat": 4,
 "nbformat_minor": 5
}
