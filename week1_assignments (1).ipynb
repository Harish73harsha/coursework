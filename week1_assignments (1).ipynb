{
 "cells": [
  {
   "cell_type": "markdown",
   "id": "01a432c8-dad9-4e80-819c-82d47554cdf6",
   "metadata": {
    "jp-MarkdownHeadingCollapsed": true,
    "tags": []
   },
   "source": [
    "## Question 1\n",
    "Q1. Create one variable containing following type of data:\n",
    "\n",
    "(i) string\n",
    "\n",
    "(ii) list\n",
    "\n",
    "(iii) float\n",
    "\n",
    "(iv) tuple"
   ]
  },
  {
   "cell_type": "code",
   "execution_count": 3,
   "id": "553ea3f8-3c22-4aaa-ab90-2effc51f07de",
   "metadata": {},
   "outputs": [
    {
     "data": {
      "text/plain": [
       "str"
      ]
     },
     "execution_count": 3,
     "metadata": {},
     "output_type": "execute_result"
    }
   ],
   "source": [
    "a=\"hello world\"\n",
    "type(a)"
   ]
  },
  {
   "cell_type": "code",
   "execution_count": 5,
   "id": "6c13c5b0-8bf5-4492-8bec-34e1a9f949d2",
   "metadata": {},
   "outputs": [
    {
     "data": {
      "text/plain": [
       "list"
      ]
     },
     "execution_count": 5,
     "metadata": {},
     "output_type": "execute_result"
    }
   ],
   "source": [
    "b=[1,2,3,44]\n",
    "type(b)"
   ]
  },
  {
   "cell_type": "code",
   "execution_count": 6,
   "id": "06d8d45f-17b4-4c7c-89b0-2463ee8ed43a",
   "metadata": {},
   "outputs": [
    {
     "data": {
      "text/plain": [
       "float"
      ]
     },
     "execution_count": 6,
     "metadata": {},
     "output_type": "execute_result"
    }
   ],
   "source": [
    "c=5.1\n",
    "type(c)"
   ]
  },
  {
   "cell_type": "code",
   "execution_count": 7,
   "id": "a9707c6e-e521-4efd-9036-2c532267d5bb",
   "metadata": {},
   "outputs": [
    {
     "data": {
      "text/plain": [
       "tuple"
      ]
     },
     "execution_count": 7,
     "metadata": {},
     "output_type": "execute_result"
    }
   ],
   "source": [
    "d=(12,3,2,3)\n",
    "type(d)"
   ]
  },
  {
   "cell_type": "markdown",
   "id": "07d14461-6d58-4a6e-8dd9-3bf8a017b446",
   "metadata": {
    "jp-MarkdownHeadingCollapsed": true,
    "tags": []
   },
   "source": [
    "## question 2\n",
    "\n",
    "Q2. Given are some following variables containing data:\n",
    "\n",
    "(i) var1 = ‘ ‘\n",
    "\n",
    "(ii) var2 = ‘[ DS , ML , Python]’\n",
    "\n",
    "(iii) var3 = [ ‘DS’ , ’ML’ , ‘Python’ ]\n",
    "\n",
    "(iv) var4 = 1."
   ]
  },
  {
   "cell_type": "code",
   "execution_count": 9,
   "id": "12dec4f3-c06e-4de7-9ed5-9b4ce1123bf8",
   "metadata": {},
   "outputs": [
    {
     "data": {
      "text/plain": [
       "str"
      ]
     },
     "execution_count": 9,
     "metadata": {},
     "output_type": "execute_result"
    }
   ],
   "source": [
    "var1=''\n",
    "type(var1)"
   ]
  },
  {
   "cell_type": "code",
   "execution_count": 4,
   "id": "0de1c889-6099-4a0d-9360-336eafbacd6c",
   "metadata": {},
   "outputs": [
    {
     "data": {
      "text/plain": [
       "str"
      ]
     },
     "execution_count": 4,
     "metadata": {},
     "output_type": "execute_result"
    }
   ],
   "source": [
    "var2=\"[ds,ml,python]\"\n",
    "type(var2)"
   ]
  },
  {
   "cell_type": "code",
   "execution_count": 5,
   "id": "41346de3-b313-4a95-82fa-d1205b71a366",
   "metadata": {},
   "outputs": [
    {
     "data": {
      "text/plain": [
       "list"
      ]
     },
     "execution_count": 5,
     "metadata": {},
     "output_type": "execute_result"
    }
   ],
   "source": [
    "var3=[\"DS\",\"ML\",\"Python\"]\n",
    "type(var3)"
   ]
  },
  {
   "cell_type": "code",
   "execution_count": 7,
   "id": "4b876d61-5aa4-4bed-986d-19f93790d516",
   "metadata": {},
   "outputs": [
    {
     "data": {
      "text/plain": [
       "float"
      ]
     },
     "execution_count": 7,
     "metadata": {},
     "output_type": "execute_result"
    }
   ],
   "source": [
    "var4=1.\n",
    "type(var4)"
   ]
  },
  {
   "cell_type": "markdown",
   "id": "8ae8b91c-6008-497a-8ed5-36ebc412ac09",
   "metadata": {
    "jp-MarkdownHeadingCollapsed": true,
    "tags": []
   },
   "source": [
    "## question 3\n",
    "\n",
    "What will be the data type of the above given variable.\n",
    "\n",
    "Q3. Explain the use of the following operators using an example:\n",
    "\n",
    "(i) /\n",
    "\n",
    "(ii) %\n",
    "\n",
    "(iii) //\n",
    "\n",
    "(iv) **"
   ]
  },
  {
   "cell_type": "markdown",
   "id": "5181ce6d-a3af-4892-82e1-8776d912bc97",
   "metadata": {},
   "source": [
    "#### / represents the division which will always returns the value quotient in float value"
   ]
  },
  {
   "cell_type": "code",
   "execution_count": 3,
   "id": "47a916f9-93f3-474d-a894-54f925942996",
   "metadata": {},
   "outputs": [
    {
     "data": {
      "text/plain": [
       "2.0"
      ]
     },
     "execution_count": 3,
     "metadata": {},
     "output_type": "execute_result"
    }
   ],
   "source": [
    "a=10\n",
    "b=5\n",
    "a/b"
   ]
  },
  {
   "cell_type": "markdown",
   "id": "66fdf2ee-2747-4527-9692-96759c9e72ef",
   "metadata": {},
   "source": [
    "#### % represents the remainder of the given function"
   ]
  },
  {
   "cell_type": "code",
   "execution_count": 6,
   "id": "fb72a797-b368-4ad0-a08c-fe546f17cc0a",
   "metadata": {},
   "outputs": [
    {
     "data": {
      "text/plain": [
       "0"
      ]
     },
     "execution_count": 6,
     "metadata": {},
     "output_type": "execute_result"
    }
   ],
   "source": [
    "a%b"
   ]
  },
  {
   "cell_type": "markdown",
   "id": "a96ccb74-ac4a-4bb0-86b7-18113fe9ac34",
   "metadata": {
    "tags": []
   },
   "source": [
    "#### // represents floor division where it will round of the value of the quotient"
   ]
  },
  {
   "cell_type": "code",
   "execution_count": 7,
   "id": "87df89b3-7526-4bef-bab5-4809619c7370",
   "metadata": {},
   "outputs": [
    {
     "data": {
      "text/plain": [
       "2"
      ]
     },
     "execution_count": 7,
     "metadata": {},
     "output_type": "execute_result"
    }
   ],
   "source": [
    "a//b"
   ]
  },
  {
   "cell_type": "markdown",
   "id": "8d320b6c-a0d1-451b-817b-e184ada1e74d",
   "metadata": {},
   "source": [
    "#### ** represents power 5 power 10 =100000"
   ]
  },
  {
   "cell_type": "code",
   "execution_count": 12,
   "id": "77b0e04e-f9e5-4c7d-a1dd-131192864de5",
   "metadata": {},
   "outputs": [
    {
     "data": {
      "text/plain": [
       "100000"
      ]
     },
     "execution_count": 12,
     "metadata": {},
     "output_type": "execute_result"
    }
   ],
   "source": [
    "a**b"
   ]
  },
  {
   "cell_type": "markdown",
   "id": "fa2e0222-187c-4092-acc8-d5e57546df0d",
   "metadata": {
    "jp-MarkdownHeadingCollapsed": true,
    "tags": []
   },
   "source": [
    "## question 4\n",
    "Q4. Create a list of length 10 of your choice containing multiple types of data. Using for loop print the\n",
    "element and its data type."
   ]
  },
  {
   "cell_type": "code",
   "execution_count": 14,
   "id": "32fa3ff8-3e86-476c-801b-4777a5368763",
   "metadata": {},
   "outputs": [
    {
     "name": "stdout",
     "output_type": "stream",
     "text": [
      "1\n",
      "<class 'int'>\n",
      "2\n",
      "<class 'int'>\n",
      "3\n",
      "<class 'int'>\n",
      "True\n",
      "<class 'bool'>\n",
      "5\n",
      "<class 'int'>\n",
      "(6+7j)\n",
      "<class 'complex'>\n",
      "7\n",
      "<class 'int'>\n",
      "8.0\n",
      "<class 'float'>\n",
      "9\n",
      "<class 'int'>\n",
      "har\n",
      "<class 'str'>\n"
     ]
    }
   ],
   "source": [
    "a=[1,2,3,True,5,6+7j,7,8.0,9,'har']\n",
    "for i in a:\n",
    "    print(i)\n",
    "    print(type(i))"
   ]
  },
  {
   "cell_type": "markdown",
   "id": "1ae97740-6f78-4e4d-9470-c1b4e1bec036",
   "metadata": {
    "jp-MarkdownHeadingCollapsed": true,
    "tags": []
   },
   "source": [
    "## question 5\n",
    "\n",
    "Q5. Using a while loop, verify if the number A is purely divisible by number B and if so then how many\n",
    "times it can be divisible."
   ]
  },
  {
   "cell_type": "code",
   "execution_count": 25,
   "id": "1b7e7d87-48a9-46a2-8ffd-054553a9673a",
   "metadata": {},
   "outputs": [
    {
     "name": "stdin",
     "output_type": "stream",
     "text": [
      "enter the number a: 4\n",
      "enter the number b: 2\n"
     ]
    },
    {
     "name": "stdout",
     "output_type": "stream",
     "text": [
      "a is divisible by b 2 times\n"
     ]
    }
   ],
   "source": [
    "a=int(input('enter the number a:'))\n",
    "b=int(input('enter the number b:'))\n",
    "count=0\n",
    "while a%b==0:\n",
    "    a=a//b\n",
    "    count+=1\n",
    "if count==0:\n",
    "    print(f\"a is not divisible by b\")\n",
    "else:\n",
    "    print(f\"a is divisible by b {count} times\")"
   ]
  },
  {
   "cell_type": "markdown",
   "id": "c94421b9-167e-4af1-97d3-2f6d17d8d343",
   "metadata": {},
   "source": [
    "## question 6"
   ]
  },
  {
   "cell_type": "markdown",
   "id": "4e61af06-6a31-4b0c-a24b-f6716d4161ee",
   "metadata": {
    "jp-MarkdownHeadingCollapsed": true,
    "tags": []
   },
   "source": [
    "##### \n",
    "Create a list containing 25 int type data. \n",
    "Using for loop and if-else condition \n",
    "print if the element is divisible by 3 or not.\n"
   ]
  },
  {
   "cell_type": "code",
   "execution_count": 29,
   "id": "8446f78a-c7c1-4f2a-a7ce-949cbeb2a969",
   "metadata": {},
   "outputs": [
    {
     "name": "stdout",
     "output_type": "stream",
     "text": [
      "it is not divisible\n",
      "it is not divisible\n",
      "it is divisible\n",
      "it is not divisible\n",
      "it is not divisible\n",
      "it is divisible\n",
      "it is not divisible\n",
      "it is not divisible\n",
      "it is divisible\n",
      "it is divisible\n",
      "it is not divisible\n",
      "it is divisible\n",
      "it is not divisible\n",
      "it is not divisible\n",
      "it is divisible\n",
      "it is not divisible\n",
      "it is not divisible\n",
      "it is divisible\n",
      "it is not divisible\n",
      "it is not divisible\n",
      "it is divisible\n",
      "it is not divisible\n",
      "it is not divisible\n",
      "it is divisible\n",
      "it is not divisible\n",
      "9\n"
     ]
    }
   ],
   "source": [
    "c=0\n",
    "a=[1,2,3,4,5,6,7,8,9,0,11,12,13,14,15,16,17,18,19,20,21,22,23,24,25]\n",
    "for i in a:\n",
    "    if i%3==0:\n",
    "        c+=1\n",
    "        print(\"it is divisible\")\n",
    "    else:\n",
    "        print(\"it is not divisible\")\n",
    "print(c)"
   ]
  },
  {
   "cell_type": "markdown",
   "id": "1d5471a9-ef6a-4f55-86a2-0ea5204cdf2d",
   "metadata": {
    "jp-MarkdownHeadingCollapsed": true,
    "tags": []
   },
   "source": [
    "### question 7\n",
    "What do you understand about mutable and immutable data types?\n",
    "Give examples for both showing this property."
   ]
  },
  {
   "cell_type": "markdown",
   "id": "ce1a265d-572a-420e-a907-dbc81a2c55d5",
   "metadata": {
    "jp-MarkdownHeadingCollapsed": true,
    "tags": []
   },
   "source": [
    "## this is an example for mutable which means it can be modified,delete,add by each element inside a list or other mutable datatypes"
   ]
  },
  {
   "cell_type": "code",
   "execution_count": 45,
   "id": "341857ca-ec8e-40ae-a831-fcc7a6b72ad7",
   "metadata": {},
   "outputs": [
    {
     "data": {
      "text/plain": [
       "2"
      ]
     },
     "execution_count": 45,
     "metadata": {},
     "output_type": "execute_result"
    }
   ],
   "source": [
    "a=[1,2,3,4]\n",
    "b=(12,2,3,23,44)\n",
    "a[1]"
   ]
  },
  {
   "cell_type": "code",
   "execution_count": 43,
   "id": "7c7ec9ff-328a-46d9-aa02-c7e4ab1d7fb5",
   "metadata": {},
   "outputs": [
    {
     "data": {
      "text/plain": [
       "2"
      ]
     },
     "execution_count": 43,
     "metadata": {},
     "output_type": "execute_result"
    }
   ],
   "source": [
    "b[1]"
   ]
  },
  {
   "cell_type": "code",
   "execution_count": 46,
   "id": "8bde114e-a85a-40ea-b4a1-9ccd8044ab61",
   "metadata": {},
   "outputs": [
    {
     "data": {
      "text/plain": [
       "5"
      ]
     },
     "execution_count": 46,
     "metadata": {},
     "output_type": "execute_result"
    }
   ],
   "source": [
    "a[1]=5\n",
    "a[1]"
   ]
  },
  {
   "cell_type": "markdown",
   "id": "18383379-4ca4-4647-b326-36d4b6894465",
   "metadata": {
    "jp-MarkdownHeadingCollapsed": true,
    "tags": []
   },
   "source": [
    "## tuple is immutable which means it cannot be modified ,add,delete the particular elements inside a tuple\n"
   ]
  },
  {
   "cell_type": "code",
   "execution_count": 47,
   "id": "03d32e31-d9f4-4580-8325-27749462fd08",
   "metadata": {},
   "outputs": [
    {
     "ename": "TypeError",
     "evalue": "'tuple' object does not support item assignment",
     "output_type": "error",
     "traceback": [
      "\u001b[0;31m---------------------------------------------------------------------------\u001b[0m",
      "\u001b[0;31mTypeError\u001b[0m                                 Traceback (most recent call last)",
      "Cell \u001b[0;32mIn[47], line 1\u001b[0m\n\u001b[0;32m----> 1\u001b[0m \u001b[43mb\u001b[49m\u001b[43m[\u001b[49m\u001b[38;5;241;43m1\u001b[39;49m\u001b[43m]\u001b[49m\u001b[38;5;241m=\u001b[39m\u001b[38;5;241m5\u001b[39m\n",
      "\u001b[0;31mTypeError\u001b[0m: 'tuple' object does not support item assignment"
     ]
    }
   ],
   "source": [
    "b[1]=5"
   ]
  }
 ],
 "metadata": {
  "kernelspec": {
   "display_name": "Python 3 (ipykernel)",
   "language": "python",
   "name": "python3"
  },
  "language_info": {
   "codemirror_mode": {
    "name": "ipython",
    "version": 3
   },
   "file_extension": ".py",
   "mimetype": "text/x-python",
   "name": "python",
   "nbconvert_exporter": "python",
   "pygments_lexer": "ipython3",
   "version": "3.10.8"
  }
 },
 "nbformat": 4,
 "nbformat_minor": 5
}
